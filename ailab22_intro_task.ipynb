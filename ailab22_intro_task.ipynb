{
  "nbformat": 4,
  "nbformat_minor": 0,
  "metadata": {
    "colab": {
      "provenance": [],
      "include_colab_link": true
    },
    "kernelspec": {
      "name": "python3",
      "display_name": "Python 3"
    },
    "language_info": {
      "name": "python"
    }
  },
  "cells": [
    {
      "cell_type": "markdown",
      "metadata": {
        "id": "view-in-github",
        "colab_type": "text"
      },
      "source": [
        "<a href=\"https://colab.research.google.com/github/omoghaoghenemano/handwritten-prediction/blob/master/ailab22_intro_task.ipynb\" target=\"_parent\"><img src=\"https://colab.research.google.com/assets/colab-badge.svg\" alt=\"Open In Colab\"/></a>"
      ]
    },
    {
      "cell_type": "markdown",
      "source": [
        "# Applied AI Lab WS2022 Introductory Task\n",
        "\n",
        "Please solve the following task as part of your application to the Applied AI Lab.\n",
        "Since the lab depends on the participants being able to implement (deep) machine learning solutions, solving this task is a requirement for acceptance.\n",
        "However, it is not important to maximize the performance or do excessive optimization.\n",
        "\n",
        "You are given a dataset (in Studip) of handwritten numbers with two digits.\n",
        "Your task is to construct and train a classifier to predict the number from the image input.\n",
        "Specifically, please:\n",
        "1. Train an sklearn classifier for this task.\n",
        "2. Train a deep learning model for this task with testing accuracy over 80% (there is no hidden test set, so do not overfit on the given test data).\n",
        "3. Send a link to your solution (a single Google Colab notebook) as part of your application mail.\n",
        "\n",
        "Additional information:\n",
        "* The dataset can be easily loaded with `torchvision.datasets.ImageFolder`.\n",
        "* You can use any deep learning framework you are comfortable with.\n",
        "* We recommend working on Google Colab. To have access to the dataset, see https://colab.research.google.com/notebooks/io.ipynb.\n",
        "\n"
      ],
      "metadata": {
        "id": "5KoYQeQD9sxW"
      }
    },
    {
      "cell_type": "code",
      "source": [
        "import numpy as np\n",
        "import tensorflow as tf\n",
        "import matplotlib.pyplot as plt\n",
        "import os\n",
        "import csv\n",
        "from tensorflow.keras.models import Sequential\n",
        "from tensorflow.keras.layers import Dense\n",
        "from tensorflow.keras.activations import linear, relu, sigmoid\n",
        "from tensorflow.keras import layers, models\n",
        "from tensorflow.keras.preprocessing.image import ImageDataGenerator\n",
        "from tensorflow.keras.preprocessing import image\n",
        "from tensorflow.keras import regularizers\n",
        "from tensorflow.keras.callbacks import EarlyStopping\n",
        "from tensorflow.keras.optimizers import Adam\n",
        "from tensorflow.keras.layers import Dropout"
      ],
      "metadata": {
        "id": "JAdm55D7cR5J"
      },
      "execution_count": 1,
      "outputs": []
    },
    {
      "cell_type": "markdown",
      "source": [
        "Load data"
      ],
      "metadata": {
        "id": "3xs9oqEjde9u"
      }
    },
    {
      "cell_type": "code",
      "source": [
        "import zipfile\n",
        "\n",
        "zip_file_path = '/media/images.zip'\n",
        "\n",
        "extract_folder_path = '/media'\n",
        "\n",
        "with zipfile.ZipFile(zip_file_path, 'r') as zip_ref:\n",
        "    zip_ref.extractall(extract_folder_path)"
      ],
      "metadata": {
        "id": "wz83aJmplymw"
      },
      "execution_count": 2,
      "outputs": []
    },
    {
      "cell_type": "code",
      "source": [
        "\n",
        "\n",
        "\n",
        "train_data_path = '/media/images/train'\n",
        "test_data_path = '/media/images/test'\n",
        "\n",
        "image_size = (64, 64)\n",
        "batch_size = 32\n",
        "\n",
        "train_datagen = ImageDataGenerator(\n",
        "    rescale=1./255,  # Normalize pixel values to be between 0 and 1\n",
        "    validation_split=0.2\n",
        ")\n",
        "\n",
        "\n",
        "train_dataset = tf.keras.preprocessing.image_dataset_from_directory(\n",
        "    train_data_path,\n",
        "    image_size=image_size,\n",
        "    batch_size=batch_size,\n",
        "    shuffle=True,\n",
        "    seed=123,\n",
        ")\n",
        "validation_dataset = train_datagen.flow_from_directory(\n",
        "    train_data_path,\n",
        "    target_size=image_size,\n",
        "    batch_size=batch_size,\n",
        "    class_mode='categorical',  # Assumes a classification task, adjust accordingly\n",
        "    subset=\"validation\",\n",
        ")\n",
        "\n",
        "# Create the testing dataset\n",
        "test_datagen = ImageDataGenerator(rescale=1./255)  # Normalize pixel values for testing\n",
        "test_dataset = test_datagen.flow_from_directory(\n",
        "    test_data_path,\n",
        "    target_size=image_size,\n",
        "    batch_size=batch_size,\n",
        "    class_mode='categorical',  # Assumes a classification task, adjust accordingly\n",
        ")\n",
        "\n",
        "\n",
        "class_names = train_dataset.class_names\n",
        "print(\"Class Names:\", class_names)\n",
        "\n",
        "# Example: Iterate through a batch of the training dataset\n",
        "for images, labels in train_dataset.take(1):\n",
        "    print(\"Batch shape:\", images.shape)\n",
        "    print(\"Labels:\", labels.numpy())\n"
      ],
      "metadata": {
        "id": "EQWGhZpImqPN",
        "colab": {
          "base_uri": "https://localhost:8080/"
        },
        "outputId": "e18beb21-d392-42fd-c98b-7dd59d2683c5"
      },
      "execution_count": 3,
      "outputs": [
        {
          "output_type": "stream",
          "name": "stdout",
          "text": [
            "Found 10000 files belonging to 100 classes.\n",
            "Found 1960 images belonging to 100 classes.\n",
            "Found 1000 images belonging to 100 classes.\n",
            "Class Names: ['0', '1', '10', '11', '12', '13', '14', '15', '16', '17', '18', '19', '2', '20', '21', '22', '23', '24', '25', '26', '27', '28', '29', '3', '30', '31', '32', '33', '34', '35', '36', '37', '38', '39', '4', '40', '41', '42', '43', '44', '45', '46', '47', '48', '49', '5', '50', '51', '52', '53', '54', '55', '56', '57', '58', '59', '6', '60', '61', '62', '63', '64', '65', '66', '67', '68', '69', '7', '70', '71', '72', '73', '74', '75', '76', '77', '78', '79', '8', '80', '81', '82', '83', '84', '85', '86', '87', '88', '89', '9', '90', '91', '92', '93', '94', '95', '96', '97', '98', '99']\n",
            "Batch shape: (32, 64, 64, 3)\n",
            "Labels: [53  4  0 25 33 62 69 41 60 44  2 33 47  3 12 55 77 55 20 90 31 64 83 37\n",
            " 22 41  8 72 85 60 16 49]\n"
          ]
        }
      ]
    },
    {
      "cell_type": "code",
      "source": [
        "image_size = (64, 64)\n",
        "batch_size = 32\n",
        "\n",
        "\n",
        "train_datagen = ImageDataGenerator(\n",
        "    rescale=1./255,\n",
        "    validation_split=0.2\n",
        ")\n",
        "\n",
        "train_dataset = train_datagen.flow_from_directory(\n",
        "    train_data_path,\n",
        "    target_size=image_size,\n",
        "    batch_size=batch_size,\n",
        "    class_mode='categorical',\n",
        "    subset=\"training\",\n",
        ")\n",
        "\n",
        "\n",
        "class_names = train_dataset.class_indices\n",
        "class_names = list(class_names.keys())\n",
        "\n",
        "\n",
        "images, labels = next(train_dataset)\n",
        "\n",
        "plt.figure(figsize=(10, 10))\n",
        "for i in range(9):\n",
        "    ax = plt.subplot(3, 3, i + 1)\n",
        "    plt.imshow(images[i])\n",
        "    plt.title(class_names[tf.argmax(labels[i])])\n",
        "    plt.axis(\"off\")\n",
        "plt.show()"
      ],
      "metadata": {
        "id": "HXJFileUsl7H",
        "colab": {
          "base_uri": "https://localhost:8080/",
          "height": 824
        },
        "outputId": "6078eda0-4eda-44cc-aa2c-074a3d414552"
      },
      "execution_count": 4,
      "outputs": [
        {
          "output_type": "stream",
          "name": "stdout",
          "text": [
            "Found 8040 images belonging to 100 classes.\n"
          ]
        },
        {
          "output_type": "display_data",
          "data": {
            "text/plain": [
              "<Figure size 1000x1000 with 9 Axes>"
            ],
            "image/png": "[encoded data removed]"
          },
          "metadata": {}
        }
      ]
    },
    {
      "cell_type": "code",
      "source": [
        "num_classes = len(train_dataset.class_indices)\n",
        "\n",
        "\n",
        "model = models.Sequential()\n",
        "model.add(layers.Conv2D(32, (3, 3), activation='relu', input_shape=(64, 64, 3)))\n",
        "model.add(layers.MaxPooling2D((2, 2)))\n",
        "model.add(layers.Flatten())\n",
        "model.add(layers.Dense(128, activation='relu' ))\n",
        "model.add(layers.Dense(num_classes, activation='softmax', kernel_regularizer=regularizers.l2(0.01)))\n",
        "\n",
        "\n",
        "model.compile(optimizer=\"adam\",\n",
        "              loss='categorical_crossentropy',\n",
        "              metrics=['accuracy'])\n",
        "\n",
        "\n",
        "num_epochs = 40\n",
        "history = model.fit(\n",
        "    train_dataset,\n",
        "    epochs=num_epochs,\n",
        "    validation_data=validation_dataset\n",
        ")\n",
        "\n",
        "\n",
        "test_loss, test_accuracy = model.evaluate(test_dataset)\n",
        "print(f'Testing Accuracy: {test_accuracy * 100:.2f}%')"
      ],
      "metadata": {
        "id": "nuJTV-QcvVVR",
        "colab": {
          "base_uri": "https://localhost:8080/"
        },
        "outputId": "2ed6d587-1326-4d08-f98c-441570196e71"
      },
      "execution_count": 18,
      "outputs": [
        {
          "output_type": "stream",
          "name": "stdout",
          "text": [
            "Epoch 1/40\n",
            "252/252 [==============================] - 36s 141ms/step - loss: 3.0039 - accuracy: 0.3729 - val_loss: 1.7162 - val_accuracy: 0.6128\n",
            "Epoch 2/40\n",
            "252/252 [==============================] - 35s 137ms/step - loss: 1.0874 - accuracy: 0.7846 - val_loss: 1.2990 - val_accuracy: 0.7117\n",
            "Epoch 3/40\n",
            "252/252 [==============================] - 37s 148ms/step - loss: 0.5981 - accuracy: 0.9137 - val_loss: 1.2079 - val_accuracy: 0.7500\n",
            "Epoch 4/40\n",
            "252/252 [==============================] - 36s 143ms/step - loss: 0.3857 - accuracy: 0.9652 - val_loss: 1.1092 - val_accuracy: 0.7566\n",
            "Epoch 5/40\n",
            "252/252 [==============================] - 35s 138ms/step - loss: 0.2981 - accuracy: 0.9841 - val_loss: 1.1584 - val_accuracy: 0.7638\n",
            "Epoch 6/40\n",
            "252/252 [==============================] - 33s 133ms/step - loss: 0.2340 - accuracy: 0.9942 - val_loss: 1.1625 - val_accuracy: 0.7444\n",
            "Epoch 7/40\n",
            "252/252 [==============================] - 38s 150ms/step - loss: 0.2170 - accuracy: 0.9892 - val_loss: 1.1114 - val_accuracy: 0.7556\n",
            "Epoch 8/40\n",
            "252/252 [==============================] - 34s 133ms/step - loss: 0.1934 - accuracy: 0.9887 - val_loss: 1.1455 - val_accuracy: 0.7372\n",
            "Epoch 9/40\n",
            "252/252 [==============================] - 35s 138ms/step - loss: 0.2101 - accuracy: 0.9791 - val_loss: 1.1282 - val_accuracy: 0.7485\n",
            "Epoch 10/40\n",
            "252/252 [==============================] - 35s 139ms/step - loss: 0.1930 - accuracy: 0.9808 - val_loss: 1.1472 - val_accuracy: 0.7510\n",
            "Epoch 11/40\n",
            "252/252 [==============================] - 36s 143ms/step - loss: 0.1604 - accuracy: 0.9908 - val_loss: 1.0388 - val_accuracy: 0.7648\n",
            "Epoch 12/40\n",
            "252/252 [==============================] - 35s 139ms/step - loss: 0.1404 - accuracy: 0.9923 - val_loss: 1.0715 - val_accuracy: 0.7622\n",
            "Epoch 13/40\n",
            "252/252 [==============================] - 35s 138ms/step - loss: 0.1311 - accuracy: 0.9900 - val_loss: 1.1494 - val_accuracy: 0.7541\n",
            "Epoch 14/40\n",
            "252/252 [==============================] - 35s 138ms/step - loss: 0.1614 - accuracy: 0.9791 - val_loss: 1.1678 - val_accuracy: 0.7403\n",
            "Epoch 15/40\n",
            "252/252 [==============================] - 35s 139ms/step - loss: 0.1355 - accuracy: 0.9877 - val_loss: 1.0530 - val_accuracy: 0.7765\n",
            "Epoch 16/40\n",
            "252/252 [==============================] - 36s 144ms/step - loss: 0.1021 - accuracy: 0.9968 - val_loss: 0.9843 - val_accuracy: 0.7908\n",
            "Epoch 17/40\n",
            "252/252 [==============================] - 34s 135ms/step - loss: 0.0762 - accuracy: 0.9999 - val_loss: 0.9235 - val_accuracy: 0.8000\n",
            "Epoch 18/40\n",
            "252/252 [==============================] - 35s 137ms/step - loss: 0.0615 - accuracy: 1.0000 - val_loss: 0.8791 - val_accuracy: 0.8097\n",
            "Epoch 19/40\n",
            "252/252 [==============================] - 35s 139ms/step - loss: 0.0521 - accuracy: 1.0000 - val_loss: 0.9201 - val_accuracy: 0.7969\n",
            "Epoch 20/40\n",
            "252/252 [==============================] - 34s 134ms/step - loss: 0.2316 - accuracy: 0.9476 - val_loss: 1.1109 - val_accuracy: 0.7531\n",
            "Epoch 21/40\n",
            "252/252 [==============================] - 35s 138ms/step - loss: 0.1771 - accuracy: 0.9701 - val_loss: 1.0508 - val_accuracy: 0.7668\n",
            "Epoch 22/40\n",
            "252/252 [==============================] - 38s 151ms/step - loss: 0.1134 - accuracy: 0.9922 - val_loss: 0.9647 - val_accuracy: 0.7939\n",
            "Epoch 23/40\n",
            "252/252 [==============================] - 35s 137ms/step - loss: 0.0803 - accuracy: 0.9985 - val_loss: 0.9479 - val_accuracy: 0.7944\n",
            "Epoch 24/40\n",
            "252/252 [==============================] - 33s 133ms/step - loss: 0.0626 - accuracy: 0.9999 - val_loss: 0.8426 - val_accuracy: 0.8163\n",
            "Epoch 25/40\n",
            "252/252 [==============================] - 35s 139ms/step - loss: 0.0506 - accuracy: 1.0000 - val_loss: 0.8231 - val_accuracy: 0.8158\n",
            "Epoch 26/40\n",
            "252/252 [==============================] - 38s 149ms/step - loss: 0.0424 - accuracy: 1.0000 - val_loss: 0.8073 - val_accuracy: 0.8143\n",
            "Epoch 27/40\n",
            "252/252 [==============================] - 35s 139ms/step - loss: 0.0382 - accuracy: 0.9998 - val_loss: 0.9931 - val_accuracy: 0.7745\n",
            "Epoch 28/40\n",
            "252/252 [==============================] - 35s 139ms/step - loss: 0.2126 - accuracy: 0.9496 - val_loss: 1.1995 - val_accuracy: 0.7520\n",
            "Epoch 29/40\n",
            "252/252 [==============================] - 34s 137ms/step - loss: 0.1245 - accuracy: 0.9847 - val_loss: 1.1314 - val_accuracy: 0.7663\n",
            "Epoch 30/40\n",
            "252/252 [==============================] - 35s 139ms/step - loss: 0.0845 - accuracy: 0.9947 - val_loss: 0.9996 - val_accuracy: 0.7908\n",
            "Epoch 31/40\n",
            "252/252 [==============================] - 34s 134ms/step - loss: 0.0658 - accuracy: 0.9988 - val_loss: 0.8719 - val_accuracy: 0.8133\n",
            "Epoch 32/40\n",
            "252/252 [==============================] - 34s 133ms/step - loss: 0.0507 - accuracy: 0.9998 - val_loss: 0.8256 - val_accuracy: 0.8173\n",
            "Epoch 33/40\n",
            "252/252 [==============================] - 35s 137ms/step - loss: 0.0412 - accuracy: 1.0000 - val_loss: 0.8066 - val_accuracy: 0.8143\n",
            "Epoch 34/40\n",
            "252/252 [==============================] - 35s 139ms/step - loss: 0.0683 - accuracy: 0.9908 - val_loss: 1.2371 - val_accuracy: 0.7342\n",
            "Epoch 35/40\n",
            "252/252 [==============================] - 35s 137ms/step - loss: 0.1473 - accuracy: 0.9716 - val_loss: 1.1220 - val_accuracy: 0.7622\n",
            "Epoch 36/40\n",
            "252/252 [==============================] - 35s 139ms/step - loss: 0.1010 - accuracy: 0.9897 - val_loss: 1.1281 - val_accuracy: 0.7770\n",
            "Epoch 37/40\n",
            "252/252 [==============================] - 36s 142ms/step - loss: 0.0740 - accuracy: 0.9958 - val_loss: 1.0369 - val_accuracy: 0.7872\n",
            "Epoch 38/40\n",
            "252/252 [==============================] - 36s 143ms/step - loss: 0.0563 - accuracy: 0.9989 - val_loss: 0.9577 - val_accuracy: 0.7990\n",
            "Epoch 39/40\n",
            "252/252 [==============================] - 33s 132ms/step - loss: 0.0444 - accuracy: 0.9998 - val_loss: 0.8865 - val_accuracy: 0.8061\n",
            "Epoch 40/40\n",
            "252/252 [==============================] - 35s 139ms/step - loss: 0.0364 - accuracy: 1.0000 - val_loss: 0.8570 - val_accuracy: 0.8071\n",
            "32/32 [==============================] - 1s 36ms/step - loss: 0.7760 - accuracy: 0.8430\n",
            "Testing Accuracy: 84.30%\n"
          ]
        }
      ]
    },
    {
      "cell_type": "markdown",
      "source": [
        "# New section"
      ],
      "metadata": {
        "id": "T1N5hTrwsBa2"
      }
    },
    {
      "cell_type": "code",
      "source": [
        "test_image_path = '/media/images/test/11/108.png'\n",
        "test_image = image.load_img(test_image_path, target_size=image_size)\n",
        "test_image = image.img_to_array(test_image)\n",
        "test_image = np.expand_dims(test_image, axis=0)\n",
        "test_image /= 255.0\n",
        "\n",
        "\n",
        "prediction = model.predict(test_image)\n",
        "predicted_class = np.argmax(prediction)\n",
        "\n",
        "class_indices = {v: k for k, v in train_dataset.class_indices.items()}\n",
        "predicted_class_name = class_indices[predicted_class]\n",
        "\n",
        "print(f'Predicted class: {predicted_class_name}')"
      ],
      "metadata": {
        "colab": {
          "base_uri": "https://localhost:8080/"
        },
        "id": "bKX7fg06Eu67",
        "outputId": "9ad4a2ea-eb73-41cf-a6e8-5e5bcc7a1910"
      },
      "execution_count": 19,
      "outputs": [
        {
          "output_type": "stream",
          "name": "stdout",
          "text": [
            "1/1 [==============================] - 0s 67ms/step\n",
            "Predicted class: 11\n"
          ]
        }
      ]
    },
    {
      "cell_type": "markdown",
      "source": [],
      "metadata": {
        "id": "sfGNQwSPfIpG"
      }
    },
    {
      "cell_type": "markdown",
      "source": [
        "# New section"
      ],
      "metadata": {
        "id": "hlNJTWp9ZMkW"
      }
    }
  ]
}